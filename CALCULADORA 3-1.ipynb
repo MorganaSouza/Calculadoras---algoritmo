{
 "cells": [
  {
   "cell_type": "code",
   "execution_count": 1,
   "metadata": {},
   "outputs": [
    {
     "name": "stdout",
     "output_type": "stream",
     "text": [
      "Selecione a operação:\n",
      "1. Soma\n",
      "2. Subtração\n",
      "3. Multiplicação\n",
      "4. Divisão\n",
      "5. Exponenciação\n",
      "6. Raiz Quadrada\n",
      "Resultado: 2.0\n"
     ]
    }
   ],
   "source": [
    "import math\n",
    "\n",
    "def soma(a, b):\n",
    "    return a + b\n",
    "\n",
    "def subtracao(a, b):\n",
    "    return a - b\n",
    "\n",
    "def multiplicacao(a, b):\n",
    "    return a * b\n",
    "\n",
    "def divisao(a, b):\n",
    "    if b != 0:\n",
    "        return a / b\n",
    "    \n",
    "def exponenciacao(a, b):\n",
    "    return a ** b\n",
    "\n",
    "def raiz_quadrada(a):\n",
    "    return math.sqrt(a)\n",
    "\n",
    "print(\"Selecione a operação:\")\n",
    "print(\"1. Soma\")\n",
    "print(\"2. Subtração\")\n",
    "print(\"3. Multiplicação\")\n",
    "print(\"4. Divisão\")\n",
    "print(\"5. Exponenciação\")\n",
    "print(\"6. Raiz Quadrada\")  \n",
    "\n",
    "escolha = input(\"Digite sua escolha (1/2/3/4/5/6): \")\n",
    "\n",
    "num1 = float(input(\"Digite o primeiro número: \"))\n",
    "\n",
    "if escolha != '6':\n",
    "    num2 = float(input(\"Digite o segundo número: \"))\n",
    "\n",
    "if escolha == '1':\n",
    "    print(\"Resultado:\", soma(num1, num2))\n",
    "elif escolha == '2':\n",
    "    print(\"Resultado:\", subtracao(num1, num2))\n",
    "elif escolha == '3':\n",
    "    print(\"Resultado:\", multiplicacao(num1, num2))\n",
    "elif escolha == '4':\n",
    "    print(\"Resultado:\", divisao(num1, num2))\n",
    "elif escolha == '5':\n",
    "    print(\"Resultado:\", exponenciacao(num1, num2))\n",
    "elif escolha == '6':\n",
    "    print(\"Resultado:\", raiz_quadrada(num1))  \n",
    "else:\n",
    "    print(\"Escolha inválida\")\n"
   ]
  }
 ],
 "metadata": {
  "kernelspec": {
   "display_name": "Python 3",
   "language": "python",
   "name": "python3"
  },
  "language_info": {
   "codemirror_mode": {
    "name": "ipython",
    "version": 3
   },
   "file_extension": ".py",
   "mimetype": "text/x-python",
   "name": "python",
   "nbconvert_exporter": "python",
   "pygments_lexer": "ipython3",
   "version": "3.12.3"
  }
 },
 "nbformat": 4,
 "nbformat_minor": 2
}
